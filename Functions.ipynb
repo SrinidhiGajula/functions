{
  "nbformat": 4,
  "nbformat_minor": 0,
  "metadata": {
    "colab": {
      "provenance": []
    },
    "kernelspec": {
      "name": "python3",
      "display_name": "Python 3"
    },
    "language_info": {
      "name": "python"
    }
  },
  "cells": [
    {
      "cell_type": "code",
      "execution_count": null,
      "metadata": {
        "id": "jiJuJ0D4Q5vf"
      },
      "outputs": [],
      "source": []
    },
    {
      "cell_type": "markdown",
      "source": [
        "1.What is the difference between a function and a method in Python?\n",
        "\n",
        "A:A function is a block of code that is defined outside of any class. It can be called by its name and can take parameters and return values. Functions are independent and do not belong to any object or class.\n",
        "Eg:def add(a, b):\n",
        "return a + b\n",
        "add(2,3)\n",
        "A method is a function that is defined inside a class and is associated with an object. Methods can access and modify the data of the object they belong to. They always take at least one parameter, self, which refers to the instance of the class.\n",
        "Eg:class Add:\n",
        "def add(self, a, b):\n",
        "return a + b\n",
        "calc = Add()\n",
        "calc.add(2, 3)\n",
        "\n",
        "2.Explain the concept of function arguments and parameters in Python.\n",
        "\n",
        "A:Parameters are variables listed inside the parentheses eg: def sum(a, b): a and b are parameters.\n",
        "Arguments are the actual values passed to the function when it is called. eg: sum(10, 15), 10 and 15 are arguments.\n",
        "\n",
        "3.What are the different ways to define and call a function in Python?\n",
        "\n",
        "A:1)Standard eg: def fun(): print(\"Hello!\") fun()\n",
        "  2)Parameters eg: def fun(name): print(name) fun(\"Nidhi\")\n",
        "  3)Return value eg:def fun(name): return name a=fun(\"Nisha\")\n",
        "\n",
        "4.What is the purpose of the `return` statement in a Python function?\n",
        "\n",
        "A: Exits from function and returns value when it is called\n",
        "\n",
        "5.What are iterators in Python and how do they differ from iterables?\n",
        "\n",
        "A: An iterable is object that can be looped over.It implements the __iter__() method, which returns an iterator.\n",
        "eg: l= [10, 20, 30] for i in l: print(i)\n",
        "Iterator returns one item at a time It implements both:\n",
        "__iter__() __next__()\n",
        "eg: l= [10, 20, 30] for i in l: print(next(i))\n",
        "\n",
        "6.Explain the concept of generators in Python and how they are defined.\n",
        "\n",
        "A: Generators are a special class of iterators,instead of returning a single value, a it yields multiple values, one at a time.  eg: def cube(a): for i in range a: yield i*i*i\n",
        "\n",
        "7.What are the advantages of using generators over regular functions\n",
        "\n",
        "A:Memory Efficiency (Lazy Evaluation)-Generators yield one item at a time, so they don’t store the entire sequence in memory.Usefulfor processing large or infinite datasets.\n",
        "\n",
        "8.What is a lambda function in Python and when is it typically used?\n",
        "\n",
        "A: A lambda function is a anonymous function .It can take any number of arguments but can only have one expression.\n",
        "eg:sq = lambda x: x ** 2\n",
        "print(sq(4)). Lambda functions are often used for short, operations\n",
        "\n",
        "9.Explain the purpose and usage of the `map()` function in Python.\n",
        "\n",
        "A: The map function in Python applies a given function to each item of an iterable (like a list or tuple) and returns a map object (which is an iterator).\n",
        "eg:numbers = [1, 2, 3, 4]\n",
        "doubled = map(lambda x: x * 2, numbers)\n",
        "print(list(doubled))\n",
        "\n",
        "10.What is the difference between `map()`, `reduce()`, and `filter()` functions in Python\n",
        "\n",
        "A: map()-It applies a given function to each item of an iterable and returns a map object\n",
        "eg:numbers = [1, 2, 3, 4]\n",
        "doubled = map(lambda x: x * 2, numbers)\n",
        "print(list(doubled))\n",
        "filter()- Filters elements from an iterable for which the function returns True.\n",
        "eg:numbers = [1, 2, 3, 4]\n",
        "evens = filter(lambda x: x % 2 == 0, numbers)\n",
        "print(list(evens))\n",
        "reduce()- Applies a function cumulatively to the elements of an iterable, reducing it to a single value.\n",
        "from functools import reduce\n",
        "numbers = [1, 2, 3, 4]\n",
        "product = reduce(lambda x, y: x * y, numbers)\n",
        "print(product)\n",
        "\n",
        "11.Using pen & Paper write the internal mechanism for sum operation using  reduce function list:[47,11,42,13];\n",
        "\n",
        "A: from functools import reduce\n",
        "reduce(lambda x,y:x+y,[47,11,42,13])\n",
        "photocopy of mechanism: https://colab.research.google.com/drive/1E6fOVpNpXYb_PrPnHBXanXvnNiai2ydG#scrollTo=S0etz8fFQ9Qy&line=78&uniqifier=1\n"
      ],
      "metadata": {
        "id": "S0etz8fFQ9Qy"
      }
    },
    {
      "cell_type": "code",
      "source": [
        "'''1.Write a Python function that takes a list of numbers as input and returns the sum of all even numbers in\n",
        "the list.'''\n",
        "\n",
        "def sum(l):\n",
        "  s=0\n",
        "  for i in l:\n",
        "    if(i%2==0):\n",
        "      s=s+i\n",
        "  return s\n",
        "\n",
        "a=sum([10,20,30])\n",
        "a"
      ],
      "metadata": {
        "colab": {
          "base_uri": "https://localhost:8080/"
        },
        "id": "C0mnRIEbRXyN",
        "outputId": "a9b9f114-998b-4e5b-ccc7-95a6426ae00b"
      },
      "execution_count": 11,
      "outputs": [
        {
          "output_type": "execute_result",
          "data": {
            "text/plain": [
              "60"
            ]
          },
          "metadata": {},
          "execution_count": 11
        }
      ]
    },
    {
      "cell_type": "code",
      "source": [
        "#Create a Python function that accepts a string and returns the reverse of that string.\n",
        "def rev(str):\n",
        "  ans=\"\"\n",
        "  for i in range(len(str)-1,-1,-1):\n",
        "    ans=ans+str[i]\n",
        "  return ans\n",
        "\n",
        "string=input(\"Enter a string:\")\n",
        "rev(string)"
      ],
      "metadata": {
        "colab": {
          "base_uri": "https://localhost:8080/",
          "height": 52
        },
        "id": "3kz_LshQTqcj",
        "outputId": "5ac1d625-4944-488f-fc5a-e1c1e8c2959d"
      },
      "execution_count": 13,
      "outputs": [
        {
          "name": "stdout",
          "output_type": "stream",
          "text": [
            "Enter a string:hello\n"
          ]
        },
        {
          "output_type": "execute_result",
          "data": {
            "text/plain": [
              "'olleh'"
            ],
            "application/vnd.google.colaboratory.intrinsic+json": {
              "type": "string"
            }
          },
          "metadata": {},
          "execution_count": 13
        }
      ]
    },
    {
      "cell_type": "code",
      "source": [
        "''' Implement a Python function that takes a list of integers and returns a new list containing the squares of\n",
        "each number'''\n",
        "def sq(x):\n",
        "  return x*x\n",
        "list(map(sq,[1,2,3,4]))"
      ],
      "metadata": {
        "colab": {
          "base_uri": "https://localhost:8080/"
        },
        "id": "WXXJaT-gWyQD",
        "outputId": "9d2da204-ee2a-4665-ecba-acc0268c08a2"
      },
      "execution_count": 15,
      "outputs": [
        {
          "output_type": "execute_result",
          "data": {
            "text/plain": [
              "[1, 4, 9, 16]"
            ]
          },
          "metadata": {},
          "execution_count": 15
        }
      ]
    },
    {
      "cell_type": "code",
      "source": [
        "#4.Write a Python function that checks if a given number is prime or not from 1 to 200\n",
        "import math\n",
        "\n",
        "def prime(n):\n",
        "    if n <= 1:\n",
        "        return False\n",
        "    for i in range(2, int(math.sqrt(n)) + 1):\n",
        "        if n % i == 0:\n",
        "            return False\n",
        "    return True\n",
        "\n",
        "\n",
        "for i in range(1,200):\n",
        "  if prime(i):\n",
        "    print(f\"{i} is prime\")\n",
        "  else:\n",
        "    print(f\"{i} is not prime\")"
      ],
      "metadata": {
        "id": "qE6M71WkgACi"
      },
      "execution_count": null,
      "outputs": []
    },
    {
      "cell_type": "code",
      "source": [
        "#5.Create an iterator class that generates the Fibonacci sequence up to a specified number of\n",
        "#terms.\n",
        "def fibonacci(n):\n",
        "  a, b = 0, 1\n",
        "  count = 0\n",
        "  while count < n:\n",
        "      yield a\n",
        "      a, b = b, a + b\n",
        "      count += 1\n",
        "\n",
        "a= fibonacci(5)\n",
        "print(next(a))\n",
        "print(next(a))\n",
        "print(next(a))\n",
        "print(next(a))\n",
        "print(next(a))\n"
      ],
      "metadata": {
        "colab": {
          "base_uri": "https://localhost:8080/"
        },
        "id": "sxWKmqFXgBEn",
        "outputId": "9b033fde-5392-4443-90f6-0a331657cfe7"
      },
      "execution_count": 43,
      "outputs": [
        {
          "output_type": "stream",
          "name": "stdout",
          "text": [
            "0\n",
            "1\n",
            "1\n",
            "2\n",
            "3\n"
          ]
        }
      ]
    },
    {
      "cell_type": "code",
      "source": [
        "# Write a generator function in Python that yields the powers of 2 up to a given exponent.\n",
        "def pow(n):\n",
        "  for i in range(n+1):\n",
        "      if i==0:\n",
        "        yield 1\n",
        "      else:\n",
        "        yield 2**i\n",
        "\n",
        "n=int(input(\"enter \"))\n",
        "a=pow(n)\n",
        "for i in range(n+1):\n",
        "  print(next(a))\n"
      ],
      "metadata": {
        "colab": {
          "base_uri": "https://localhost:8080/"
        },
        "id": "CDw6SFBdxIaa",
        "outputId": "eb7d6c03-5e7a-4a83-b2e1-0401e2123f16"
      },
      "execution_count": 55,
      "outputs": [
        {
          "output_type": "stream",
          "name": "stdout",
          "text": [
            "enter 4\n",
            "1\n",
            "2\n",
            "4\n",
            "8\n",
            "16\n"
          ]
        }
      ]
    },
    {
      "cell_type": "code",
      "source": [
        "#Use a lambda function in Python to sort a list of tuples based on the second element of each tuple.\n",
        "tup = [(1, 8), (4, 1), (2, 2), (5, 7)]\n",
        "\n",
        "ans = sorted(tup, key=lambda x: x[1])\n",
        "ans"
      ],
      "metadata": {
        "colab": {
          "base_uri": "https://localhost:8080/"
        },
        "id": "361Kaigc2MQz",
        "outputId": "57c399a6-f96f-457f-bd76-afe6251e0423"
      },
      "execution_count": 88,
      "outputs": [
        {
          "output_type": "execute_result",
          "data": {
            "text/plain": [
              "[(4, 1), (2, 2), (5, 7), (1, 8)]"
            ]
          },
          "metadata": {},
          "execution_count": 88
        }
      ]
    },
    {
      "cell_type": "code",
      "source": [
        "#9.Write a Python program that uses `map()` to convert a list of temperatures from Celsius to Fahrenheit.\n",
        "\n",
        "list_ele=[10,36, 49,]\n",
        "def fh(x):\n",
        "  return (x*9/5)+32\n",
        "\n",
        "list(map(fh,list_ele))\n",
        "\n",
        "#fh=map(lambda x: (x*9/5)+32,list_ele)\n"
      ],
      "metadata": {
        "colab": {
          "base_uri": "https://localhost:8080/"
        },
        "id": "PRzdHESB7JDz",
        "outputId": "3307f1a4-c2cf-488a-b8c7-7df053a1207b"
      },
      "execution_count": 70,
      "outputs": [
        {
          "output_type": "execute_result",
          "data": {
            "text/plain": [
              "[50.0, 96.8, 120.2]"
            ]
          },
          "metadata": {},
          "execution_count": 70
        }
      ]
    },
    {
      "cell_type": "code",
      "source": [
        "#Create a Python program that uses `filter()` to remove all the vowels from a given string\n",
        "str=\"hello\"\n",
        "list(filter(lambda x:x not in ['a','e','i','o','u'],str))"
      ],
      "metadata": {
        "colab": {
          "base_uri": "https://localhost:8080/"
        },
        "id": "FOtOW00L9NG6",
        "outputId": "9aa875d9-5f07-4e2f-9399-fbcfc4f94bbe"
      },
      "execution_count": 71,
      "outputs": [
        {
          "output_type": "execute_result",
          "data": {
            "text/plain": [
              "['h', 'l', 'l']"
            ]
          },
          "metadata": {},
          "execution_count": 71
        }
      ]
    },
    {
      "cell_type": "code",
      "source": [
        "''' Imagine an accounting routine used in a book shop. It works on a list with sublists, which look like this:\n",
        " Write a Python program, which returns a list with 2-tuples. Each tuple consists of the order number and the\n",
        "product of the price per item and the quantity. The product should be increased by 10,- € if the value of the\n",
        "order is smaller than 100,00 €.\n",
        " Write a Python program using lambda and map'''\n",
        "order_no=[34587, 98762,77226, 88112]\n",
        "element=[(4,40.95), (5, 56.80), (3,32.95), (3,24.99)]\n",
        "ans=list(map(lambda x:x[0]*x[1] , element))\n",
        "\n",
        "for i in range(len(ans)):\n",
        "  if ans[i]<100:\n",
        "    ans[i]=ans[i]+10\n",
        "\n",
        "for i in range(4):\n",
        "  print((order_no[i],ans[i]))"
      ],
      "metadata": {
        "colab": {
          "base_uri": "https://localhost:8080/"
        },
        "id": "MXfvLS7p-hEJ",
        "outputId": "77966363-43aa-4716-97cf-f3591479b22c"
      },
      "execution_count": 85,
      "outputs": [
        {
          "output_type": "stream",
          "name": "stdout",
          "text": [
            "(34587, 163.8)\n",
            "(98762, 284.0)\n",
            "(77226, 108.85000000000001)\n",
            "(88112, 84.97)\n"
          ]
        }
      ]
    },
    {
      "cell_type": "code",
      "source": [],
      "metadata": {
        "id": "AQNxIm05AySh"
      },
      "execution_count": null,
      "outputs": []
    }
  ]
}